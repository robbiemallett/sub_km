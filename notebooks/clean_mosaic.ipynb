{
 "cells": [
  {
   "cell_type": "code",
   "execution_count": 1,
   "id": "51caf904",
   "metadata": {},
   "outputs": [],
   "source": [
    "import os\n",
    "import pandas as pd\n",
    "import datetime\n",
    "import pickle"
   ]
  },
  {
   "cell_type": "code",
   "execution_count": 2,
   "id": "2b40e803",
   "metadata": {
    "scrolled": false
   },
   "outputs": [
    {
     "name": "stdout",
     "output_type": "stream",
     "text": [
      "24\n",
      "18\n",
      "3\n"
     ]
    }
   ],
   "source": [
    "areas = ['nloops','sloops','runway']\n",
    "\n",
    "data = {'nloops' : [],\n",
    "        'sloops' : [],\n",
    "        'runway' : [],\n",
    "       }\n",
    "\n",
    "\n",
    "\n",
    "data_dir = '/home/robbie/Dropbox/sub_km/evaluation_data/MOSAiC_transects/mcs_polona/02-snow-depth'\n",
    "\n",
    "for subdir in os.listdir(data_dir):\n",
    "    files = os.listdir(data_dir + '/' + subdir)\n",
    "    \n",
    "    for file in files:\n",
    "        \n",
    "        if 'nloop.csv' in file.lower():\n",
    "            data['nloops'].append(data_dir + '/' + subdir + '/' +file)\n",
    "        if 'sloop.csv' in file.lower():\n",
    "            data['sloops'].append(data_dir + '/' + subdir + '/' +file)\n",
    "        if 'runway.csv' in file.lower():\n",
    "            data['runway'].append(data_dir + '/' + subdir + '/' +file)\n",
    "            \n",
    "for area in areas:\n",
    "    print(len(data[area]))"
   ]
  },
  {
   "cell_type": "code",
   "execution_count": 3,
   "id": "2568cb91",
   "metadata": {},
   "outputs": [
    {
     "name": "stdout",
     "output_type": "stream",
     "text": [
      "nloops\n",
      "sloops\n",
      "/home/robbie/Dropbox/sub_km/evaluation_data/MOSAiC_transects/mcs_polona/02-snow-depth/PS122-3_35-20/magnaprobe-transect-20200406_PS122-3_35-20_Sloop.csv\n",
      "runway\n"
     ]
    }
   ],
   "source": [
    "for area in areas:\n",
    "    \n",
    "    print(area)\n",
    "\n",
    "    transects = []\n",
    "\n",
    "    for file in data[area]:\n",
    "        \n",
    "\n",
    "        df = pd.read_csv(file,\n",
    "                        )\n",
    "        \n",
    "        try:\n",
    "\n",
    "            t0 = df['Date/Time'][0]\n",
    "\n",
    "            dt = datetime.datetime.strptime(t0,\"%Y-%m-%dT%H:%M:%S\")\n",
    "\n",
    "            if dt.month in [10,11,12,1,2,3]:\n",
    "\n",
    "                transects.append( {'fname':file,\n",
    "                                     'dt':dt} )\n",
    "        except:\n",
    "            \n",
    "            print(file)\n",
    "            \n",
    "            \n",
    "    df = pd.DataFrame(transects)\n",
    "    df.set_index('dt',inplace=True)\n",
    "    df.sort_index(inplace=True)\n",
    "    \n",
    "\n",
    "    pickle.dump(list(df['fname']), open(f'../pickles/valid_{area}.p','wb'))"
   ]
  },
  {
   "cell_type": "code",
   "execution_count": 4,
   "id": "c53a9786",
   "metadata": {},
   "outputs": [
    {
     "name": "stdout",
     "output_type": "stream",
     "text": [
      "/home/robbie/Dropbox/sub_km/evaluation_data/MOSAiC_transects/mcs_polona/02-snow-depth/PS122-2_19-139/magna+gem2-transect-20200112_PS122-2_19-139_runway.csv\n",
      "/home/robbie/Dropbox/sub_km/evaluation_data/MOSAiC_transects/mcs_polona/02-snow-depth/PS122-2_20-124/magna+gem2-transect-20200119_PS122-2_20-124_runway.csv\n",
      "/home/robbie/Dropbox/sub_km/evaluation_data/MOSAiC_transects/mcs_polona/02-snow-depth/PS122-2_23-90/magna+gem2-transect-20200207_PS122-2_23-90_runway.csv\n"
     ]
    }
   ],
   "source": [
    "for i in df['fname']:\n",
    "    \n",
    "    print(i)"
   ]
  }
 ],
 "metadata": {
  "kernelspec": {
   "display_name": "Python 3",
   "language": "python",
   "name": "python3"
  },
  "language_info": {
   "codemirror_mode": {
    "name": "ipython",
    "version": 3
   },
   "file_extension": ".py",
   "mimetype": "text/x-python",
   "name": "python",
   "nbconvert_exporter": "python",
   "pygments_lexer": "ipython3",
   "version": "3.7.0"
  }
 },
 "nbformat": 4,
 "nbformat_minor": 5
}
