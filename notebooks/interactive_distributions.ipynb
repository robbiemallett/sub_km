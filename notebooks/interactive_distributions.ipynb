{
 "cells": [
  {
   "cell_type": "code",
   "execution_count": 10,
   "id": "fdbacde1",
   "metadata": {},
   "outputs": [],
   "source": [
    "from scipy.stats import skewnorm, lognorm\n",
    "import tools\n",
    "import pickle\n",
    "import numpy as np\n",
    "from scipy.special import erf\n",
    "import matplotlib.pyplot as plt\n",
    "import math"
   ]
  },
  {
   "cell_type": "code",
   "execution_count": 3,
   "id": "5792087a",
   "metadata": {},
   "outputs": [],
   "source": [
    "all_df = pickle.load(open('../pickles/NP_df.p','rb'))\n",
    "\n",
    "all_statistics = tools.get_statistics(all_df)\n",
    "\n",
    "flat = np.concatenate(all_df['norm']).ravel()\n",
    "\n",
    "flat = flat[~np.isnan(flat)]\n",
    "\n",
    "x = np.arange(-5,5,0.1)    "
   ]
  },
  {
   "cell_type": "code",
   "execution_count": 4,
   "id": "3249d982",
   "metadata": {},
   "outputs": [],
   "source": [
    "bw = 0.1\n",
    "\n",
    "bin_edges = np.arange(-2.5,3,bw)\n",
    "\n",
    "bin_centres = bin_edges[:-1] + (bin_edges[1] - bin_edges[0])/2\n",
    "\n",
    "p, bins = np.histogram(flat,\n",
    "                    bins=bin_edges,\n",
    "                    density=True,\n",
    "                   )"
   ]
  },
  {
   "cell_type": "code",
   "execution_count": 5,
   "id": "e281013d",
   "metadata": {},
   "outputs": [
    {
     "data": {
      "text/plain": [
       "[<matplotlib.lines.Line2D at 0x7f191d0c6950>]"
      ]
     },
     "execution_count": 5,
     "metadata": {},
     "output_type": "execute_result"
    },
    {
     "data": {
      "image/png": "[encoded data removed]",
      "text/plain": [
       "<Figure size 432x288 with 1 Axes>"
      ]
     },
     "metadata": {
      "needs_background": "light"
     },
     "output_type": "display_data"
    }
   ],
   "source": [
    "\n",
    "a, loc, scale = all_statistics['a'],all_statistics['loc'],all_statistics['scale']\n",
    "\n",
    "sn = skewnorm.pdf(bin_centres,a,loc,scale)\n",
    "\n",
    "def lo_phi(x):\n",
    "    \n",
    "    ret = (1/math.sqrt(2*math.pi)) * np.exp(-1*(x**2)/2)\n",
    "    \n",
    "    return ret\n",
    "    \n",
    "def up_phi(x):\n",
    "                                           \n",
    "    ret =  0.5 * (1 + erf(x/math.sqrt(2)))\n",
    "                                          \n",
    "    return ret                            \n",
    "                                        \n",
    "\n",
    "def make_sn(x,a,loc,scale):\n",
    "    \n",
    "    ret = (2/scale) * lo_phi((x-loc)/scale) * up_phi(a*(x-loc)/scale)\n",
    "                                         \n",
    "    return(ret)\n",
    "\n",
    "sn2 = make_sn(bin_centres, a, loc, scale)\n",
    "\n",
    "plt.plot(bin_centres, sn)\n",
    "plt.plot(bin_centres, sn2, ls='--')"
   ]
  },
  {
   "cell_type": "code",
   "execution_count": 7,
   "id": "87dfd7dc",
   "metadata": {},
   "outputs": [],
   "source": [
    "from matplotlib.widgets import Slider, Button, RadioButtons\n",
    "import ipywidgets as wg"
   ]
  },
  {
   "cell_type": "code",
   "execution_count": 11,
   "id": "39ed64c3",
   "metadata": {},
   "outputs": [
    {
     "data": {
      "application/vnd.jupyter.widget-view+json": {
       "model_id": "fb68d861b1e5418eb9ba80f5f05e0e8d",
       "version_major": 2,
       "version_minor": 0
      },
      "text/plain": [
       "interactive(children=(FloatSlider(value=2.54, description='$a$', max=10.0, min=-10.0, step=1.0), FloatSlider(v…"
      ]
     },
     "metadata": {},
     "output_type": "display_data"
    }
   ],
   "source": [
    "def make_sn_fit(a,loc,scale):\n",
    "\n",
    "    fit = lognorm.pdf(x,a,loc,scale)\n",
    "    \n",
    "    plt.plot(x, fit)\n",
    "    \n",
    "    plt.plot(bins[:-1],p)\n",
    "    \n",
    "    plt.ylim(0,0.55)\n",
    "    \n",
    "    plt.show()\n",
    "    \n",
    "    \n",
    "def make_interactive_plot():\n",
    "    \n",
    "\n",
    "\n",
    "    a_slide = wg.FloatSlider(value=2.54,\n",
    "                        min=-10,\n",
    "                        max=10,\n",
    "                        step=1,\n",
    "                        description=r'$a$')\n",
    "\n",
    "    loc_slide = wg.FloatSlider(value=-1.1,\n",
    "                        min=-3,\n",
    "                        max=3,\n",
    "                        step=0.25,\n",
    "                        description=r'loc')\n",
    "\n",
    "    scale_slide = wg.FloatSlider(value=1.497,\n",
    "                           min=1,\n",
    "                           max=2,\n",
    "                           step=0.1,\n",
    "                           description=r'scale')\n",
    "\n",
    "\n",
    "    wg.interact(make_sn_fit,\n",
    "                a = a_slide,\n",
    "                loc = loc_slide,\n",
    "                scale= scale_slide)\n",
    "    \n",
    "make_interactive_plot()"
   ]
  },
  {
   "cell_type": "code",
   "execution_count": null,
   "id": "97330f5b",
   "metadata": {},
   "outputs": [],
   "source": [
    "skewnorm.generic_moment"
   ]
  }
 ],
 "metadata": {
  "kernelspec": {
   "display_name": "Python 3",
   "language": "python",
   "name": "python3"
  },
  "language_info": {
   "codemirror_mode": {
    "name": "ipython",
    "version": 3
   },
   "file_extension": ".py",
   "mimetype": "text/x-python",
   "name": "python",
   "nbconvert_exporter": "python",
   "pygments_lexer": "ipython3",
   "version": "3.7.0"
  }
 },
 "nbformat": 4,
 "nbformat_minor": 5
}
