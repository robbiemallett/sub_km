{
 "cells": [
  {
   "cell_type": "code",
   "execution_count": 1,
   "id": "39db9f71",
   "metadata": {},
   "outputs": [],
   "source": [
    "import pickle\n",
    "import pandas as pd\n",
    "from openpyxl import load_workbook\n",
    "\n"
   ]
  },
  {
   "cell_type": "code",
   "execution_count": 2,
   "id": "1bad46a0",
   "metadata": {},
   "outputs": [],
   "source": [
    "dep = pickle.load(open('../pickles/line_depths_dict.p','rb'))\n",
    "\n",
    "writer = pd.ExcelWriter('../NP_transects/transect_depths.xlsx', engine='openpyxl') \n",
    "\n",
    "\n",
    "for df_name, df in sorted(dep.items()):\n",
    "    df.to_excel(writer, sheet_name=str(df_name))\n",
    "    \n",
    "writer.save()"
   ]
  },
  {
   "cell_type": "code",
   "execution_count": 3,
   "id": "8a2ddf9d",
   "metadata": {},
   "outputs": [],
   "source": [
    "den = pickle.load(open('/home/robbie/Dropbox/SP_W99_Drifters/den.p','rb'))\n",
    "\n",
    "writer = pd.ExcelWriter('../NP_transects/transect_densities.xlsx', engine='openpyxl') \n",
    "\n",
    "for df_name, df in sorted(den.items()):\n",
    "    df.to_excel(writer, sheet_name=str(df_name))\n",
    "    \n",
    "writer.save()"
   ]
  },
  {
   "cell_type": "code",
   "execution_count": 4,
   "id": "754efb4c",
   "metadata": {
    "scrolled": false
   },
   "outputs": [],
   "source": [
    "lwc = pickle.load(open('/home/robbie/Dropbox/SP_W99_Drifters/lwc.p','rb'))\n",
    "\n",
    "writer = pd.ExcelWriter('../NP_transects/transect_SWE.xlsx', engine='openpyxl') \n",
    "\n",
    "for df_name, df in sorted(lwc.items()):\n",
    "    df.to_excel(writer, sheet_name=str(df_name))\n",
    "    \n",
    "writer.save()"
   ]
  },
  {
   "cell_type": "code",
   "execution_count": 26,
   "id": "0eed2408",
   "metadata": {},
   "outputs": [],
   "source": [
    "stakes = pickle.load(open('/home/robbie/Dropbox/SP_W99_Drifters/stakes_dict.p','rb'))\n",
    "\n",
    "writer = pd.ExcelWriter('../NP_transects/stake_depths.xlsx', engine='openpyxl') \n",
    "\n",
    "for df_name, df in sorted(stakes.items()):\n",
    "    df.to_excel(writer, sheet_name=str(df_name))\n",
    "    \n",
    "writer.save()"
   ]
  },
  {
   "cell_type": "code",
   "execution_count": 62,
   "id": "50787afc",
   "metadata": {},
   "outputs": [
    {
     "name": "stdout",
     "output_type": "stream",
     "text": [
      "CPU times: user 2 µs, sys: 0 ns, total: 2 µs\n",
      "Wall time: 4.77 µs\n"
     ]
    }
   ],
   "source": [
    "%time\n",
    "\n",
    "mylist = []\n",
    "\n",
    "for i in range(100000):\n",
    "    \n",
    "    mylist.append(i)\n",
    "    \n",
    "# mylist"
   ]
  },
  {
   "cell_type": "code",
   "execution_count": 59,
   "id": "dd33fe2c",
   "metadata": {},
   "outputs": [
    {
     "data": {
      "text/plain": [
       "list"
      ]
     },
     "execution_count": 59,
     "metadata": {},
     "output_type": "execute_result"
    }
   ],
   "source": [
    "mylist = [i for i in range(10)]\n",
    "\n",
    "type(mylist)"
   ]
  }
 ],
 "metadata": {
  "kernelspec": {
   "display_name": "Python 3 (ipykernel)",
   "language": "python",
   "name": "python3"
  },
  "language_info": {
   "codemirror_mode": {
    "name": "ipython",
    "version": 3
   },
   "file_extension": ".py",
   "mimetype": "text/x-python",
   "name": "python",
   "nbconvert_exporter": "python",
   "pygments_lexer": "ipython3",
   "version": "3.8.12"
  }
 },
 "nbformat": 4,
 "nbformat_minor": 5
}
